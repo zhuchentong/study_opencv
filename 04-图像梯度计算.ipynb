{
 "cells": [
  {
   "cell_type": "code",
   "execution_count": 8,
   "metadata": {},
   "outputs": [],
   "source": [
    "import random\n",
    "import cv2\n",
    "import numpy as np\n",
    "from matplotlib import pyplot as plt\n",
    "import matplotlib"
   ]
  },
  {
   "cell_type": "code",
   "execution_count": 5,
   "metadata": {},
   "outputs": [
    {
     "data": {
      "text/plain": [
       "-1"
      ]
     },
     "execution_count": 5,
     "metadata": {},
     "output_type": "execute_result"
    }
   ],
   "source": [
    "# Solbel算子\n",
    "# Gx * A and Gy * A\n",
    "# 梯度计算\n",
    "\n",
    "image = cv2.imread('./assets/03/pie.png')\n",
    "\n",
    "# 计算Gx\n",
    "sobelx = cv2.Sobel(image, cv2.CV_64F, 1, 0, ksize=3)\n",
    "sobelx = cv2.convertScaleAbs(sobelx)\n",
    "cv2.imshow('closing' , sobelx)\n",
    "cv2.waitKey(3000)\n",
    "cv2.destroyAllWindows()\n",
    "cv2.waitKey(100)\n",
    "\n",
    "# 计算Gy\n",
    "sobely = cv2.Sobel(image, cv2.CV_64F, 0, 1, ksize=3)\n",
    "sobely = cv2.convertScaleAbs(sobely)\n",
    "cv2.imshow('closing' , sobely)\n",
    "cv2.waitKey(3000)\n",
    "cv2.destroyAllWindows()\n",
    "cv2.waitKey(100)\n",
    "\n",
    "# 求和\n",
    "sobelxy = cv2.addWeighted(sobelx, 0.5, sobely, 0.5, 0)\n",
    "cv2.imshow('closing' , sobelxy)\n",
    "cv2.waitKey(3000)\n",
    "cv2.destroyAllWindows()\n",
    "cv2.waitKey(100)"
   ]
  },
  {
   "cell_type": "code",
   "execution_count": 6,
   "metadata": {},
   "outputs": [],
   "source": [
    "# Solbel 算子\n",
    "# Scharr 算子\n",
    "# Laplacian 算子\n",
    "\n",
    "# Solbel\n",
    "# -1 0 +1    -1 -2 -1\n",
    "# -2 0 +2     0  0 .0\n",
    "# -1 0 +1    +1 +2 +1\n",
    "\n",
    "# Scharr\n",
    "# -3  0 +3    -3 -10 -3\n",
    "# -10 0 +10    0   0  0\n",
    "# -3  0 +3    +3 +10 +3\n",
    "\n",
    "# Laplacian\n",
    "# 0  1  0\n",
    "# 1 -4  1\n",
    "# 0  1  0"
   ]
  },
  {
   "cell_type": "code",
   "execution_count": 14,
   "metadata": {},
   "outputs": [
    {
     "data": {
      "text/plain": [
       "-1"
      ]
     },
     "execution_count": 14,
     "metadata": {},
     "output_type": "execute_result"
    }
   ],
   "source": [
    "# Scharr算子\n",
    "# Gx * A and Gy * A\n",
    "# 梯度计算\n",
    "\n",
    "image = cv2.imread('./assets/04/noise.png', cv2.IMREAD_GRAYSCALE)\n",
    "\n",
    "# 计算Gx\n",
    "sobelx = cv2.Scharr(image, cv2.CV_64F, 1, 0)\n",
    "sobelx = cv2.convertScaleAbs(sobelx)\n",
    "# 计算Gy\n",
    "sobely = cv2.Scharr(image, cv2.CV_64F, 0, 1)\n",
    "sobely = cv2.convertScaleAbs(sobely)\n",
    "# 求和\n",
    "sobelxy = cv2.addWeighted(sobelx, 0.5, sobely, 0.5, 0)\n",
    "cv2.imshow('closing' , sobelxy)\n",
    "cv2.waitKey(3000)\n",
    "cv2.destroyAllWindows()\n",
    "cv2.waitKey(100)"
   ]
  }
 ],
 "metadata": {
  "kernelspec": {
   "display_name": "base",
   "language": "python",
   "name": "python3"
  },
  "language_info": {
   "codemirror_mode": {
    "name": "ipython",
    "version": 3
   },
   "file_extension": ".py",
   "mimetype": "text/x-python",
   "name": "python",
   "nbconvert_exporter": "python",
   "pygments_lexer": "ipython3",
   "version": "3.12.4"
  }
 },
 "nbformat": 4,
 "nbformat_minor": 2
}
