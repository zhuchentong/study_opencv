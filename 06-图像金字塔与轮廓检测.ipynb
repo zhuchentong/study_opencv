{
 "cells": [
  {
   "cell_type": "code",
   "execution_count": 1,
   "metadata": {},
   "outputs": [],
   "source": [
    "import random\n",
    "import cv2\n",
    "import numpy as np\n",
    "from matplotlib import pyplot as plt\n",
    "import matplotlib"
   ]
  },
  {
   "cell_type": "code",
   "execution_count": 3,
   "metadata": {},
   "outputs": [],
   "source": [
    "# 高斯金字塔\n",
    "# 拉普拉斯金字塔\n",
    "\n",
    "# 高斯金字塔: 向下采样 缩小 向上采样 放大"
   ]
  },
  {
   "cell_type": "code",
   "execution_count": 14,
   "metadata": {},
   "outputs": [
    {
     "data": {
      "text/plain": [
       "(884, 680, 3)"
      ]
     },
     "execution_count": 14,
     "metadata": {},
     "output_type": "execute_result"
    }
   ],
   "source": [
    "img = cv2.imread('./assets/06/AM.png')\n",
    "up = cv2.pyrUp(img)\n",
    "cv2.imshow('img',up)\n",
    "cv2.waitKey(3000)\n",
    "cv2.destroyAllWindows()\n",
    "cv2.waitKey(1)\n",
    "up.shape"
   ]
  },
  {
   "cell_type": "code",
   "execution_count": 13,
   "metadata": {},
   "outputs": [
    {
     "data": {
      "text/plain": [
       "(221, 170, 3)"
      ]
     },
     "execution_count": 13,
     "metadata": {},
     "output_type": "execute_result"
    }
   ],
   "source": [
    "img = cv2.imread('./assets/06/AM.png')\n",
    "down = cv2.pyrDown(img)\n",
    "cv2.imshow('img',down)\n",
    "cv2.waitKey(3000)\n",
    "cv2.destroyAllWindows()\n",
    "cv2.waitKey(1)\n",
    "down.shape"
   ]
  },
  {
   "cell_type": "code",
   "execution_count": 15,
   "metadata": {},
   "outputs": [
    {
     "data": {
      "text/plain": [
       "(442, 340, 3)"
      ]
     },
     "execution_count": 15,
     "metadata": {},
     "output_type": "execute_result"
    }
   ],
   "source": [
    "img = cv2.imread('./assets/06/AM.png')\n",
    "up = cv2.pyrUp(img)\n",
    "down = cv2.pyrDown(up)\n",
    "cv2.imshow('img',np.hstack((img,down)))\n",
    "cv2.waitKey(3000)\n",
    "cv2.destroyAllWindows()\n",
    "cv2.waitKey(1)\n",
    "down.shape"
   ]
  },
  {
   "cell_type": "code",
   "execution_count": 18,
   "metadata": {},
   "outputs": [
    {
     "data": {
      "text/plain": [
       "(442, 340, 3)"
      ]
     },
     "execution_count": 18,
     "metadata": {},
     "output_type": "execute_result"
    }
   ],
   "source": [
    "img = cv2.imread('./assets/06/AM.png')\n",
    "up = cv2.pyrUp(img)\n",
    "down = cv2.pyrDown(up)\n",
    "l = img - down\n",
    "cv2.imshow('img', l)\n",
    "cv2.waitKey(3000) \n",
    "cv2.destroyAllWindows()\n",
    "cv2.waitKey(1)\n",
    "l.shape"
   ]
  },
  {
   "cell_type": "code",
   "execution_count": 20,
   "metadata": {},
   "outputs": [
    {
     "data": {
      "text/plain": [
       "-1"
      ]
     },
     "execution_count": 20,
     "metadata": {},
     "output_type": "execute_result"
    }
   ],
   "source": [
    "img = cv2.imread('./assets/06/car.png')\n",
    "\n",
    "gray = cv2.cvtColor(img,cv2.COLOR_BGR2GRAY)\n",
    "ret, thresh = cv2.threshold(gray, 127, 255, cv2.THRESH_BINARY)\n",
    "cv2.imshow('img', thresh)\n",
    "cv2.waitKey(3000) \n",
    "cv2.destroyAllWindows()\n",
    "cv2.waitKey(1)"
   ]
  },
  {
   "cell_type": "code",
   "execution_count": 39,
   "metadata": {},
   "outputs": [
    {
     "data": {
      "text/plain": [
       "-1"
      ]
     },
     "execution_count": 39,
     "metadata": {},
     "output_type": "execute_result"
    }
   ],
   "source": [
    "contours, hierarchy = cv2.findContours(thresh, cv2.RETR_TREE, cv2.CHAIN_APPROX_NONE)\n",
    "draw_img = img.copy()\n",
    "res = cv2.drawContours(draw_img, contours, -1 ,(0,0,255),2)\n",
    "\n",
    "cv2.imshow('img', res)\n",
    "cv2.waitKey(3000) \n",
    "cv2.destroyAllWindows()\n",
    "cv2.waitKey(1)"
   ]
  },
  {
   "cell_type": "code",
   "execution_count": 42,
   "metadata": {},
   "outputs": [
    {
     "data": {
      "text/plain": [
       "-1"
      ]
     },
     "execution_count": 42,
     "metadata": {},
     "output_type": "execute_result"
    }
   ],
   "source": [
    "img = cv2.imread('./assets/06/contours.png')\n",
    "gray = cv2.cvtColor(img,cv2.COLOR_BGR2GRAY)\n",
    "ret, thresh = cv2.threshold(gray, 127, 255, cv2.THRESH_BINARY)\n",
    "contours, hierarchy = cv2.findContours(thresh, cv2.RETR_TREE, cv2.CHAIN_APPROX_NONE)\n",
    "draw_img = img.copy()\n",
    "res = cv2.drawContours(draw_img, contours, 2 ,(0,0,255),2)\n",
    "\n",
    "cv2.imshow('img', res)\n",
    "cv2.waitKey(3000) \n",
    "cv2.destroyAllWindows()\n",
    "cv2.waitKey(1)"
   ]
  },
  {
   "cell_type": "code",
   "execution_count": null,
   "metadata": {},
   "outputs": [],
   "source": [
    "# 轮廓特征"
   ]
  }
 ],
 "metadata": {
  "kernelspec": {
   "display_name": "base",
   "language": "python",
   "name": "python3"
  },
  "language_info": {
   "codemirror_mode": {
    "name": "ipython",
    "version": 3
   },
   "file_extension": ".py",
   "mimetype": "text/x-python",
   "name": "python",
   "nbconvert_exporter": "python",
   "pygments_lexer": "ipython3",
   "version": "3.12.4"
  }
 },
 "nbformat": 4,
 "nbformat_minor": 2
}
