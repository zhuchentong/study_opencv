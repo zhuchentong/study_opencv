{
 "cells": [
  {
   "cell_type": "code",
   "execution_count": 2,
   "metadata": {},
   "outputs": [],
   "source": [
    "import random\n",
    "import cv2\n",
    "import numpy as np\n",
    "from matplotlib import pyplot as plt\n",
    "import matplotlib"
   ]
  },
  {
   "cell_type": "code",
   "execution_count": 3,
   "metadata": {},
   "outputs": [
    {
     "data": {
      "text/plain": [
       "-1"
      ]
     },
     "execution_count": 3,
     "metadata": {},
     "output_type": "execute_result"
    }
   ],
   "source": [
    "# 腐蚀操作\n",
    "\n",
    "image = cv2.imread('./assets/03/dige.png')\n",
    "\n",
    "kernel = np.ones((3,3),np.uint8)\n",
    "erosion = cv2.erode(image,kernel,iterations = 1)\n",
    "\n",
    "cv2.imshow('erosion', erosion)\n",
    "cv2.waitKey(3000)\n",
    "cv2.destroyAllWindows()\n",
    "cv2.waitKey(100)  \n"
   ]
  },
  {
   "cell_type": "code",
   "execution_count": 4,
   "metadata": {},
   "outputs": [
    {
     "data": {
      "text/plain": [
       "-1"
      ]
     },
     "execution_count": 4,
     "metadata": {},
     "output_type": "execute_result"
    }
   ],
   "source": [
    "# 腐蚀操作 - 迭代多次\n",
    "image = cv2.imread('./assets/03/pie.png')\n",
    "\n",
    "kernel = np.ones((5,5),np.uint8)\n",
    "\n",
    "image1 = cv2.erode(image,kernel,iterations = 1)\n",
    "image2 = cv2.erode(image,kernel,iterations = 2)\n",
    "image3 = cv2.erode(image,kernel,iterations = 3)\n",
    "\n",
    "output = np.hstack([image,image1,image2,image3])\n",
    "\n",
    "cv2.imshow('image', output)\n",
    "cv2.waitKey(3000)\n",
    "cv2.destroyAllWindows()\n",
    "cv2.waitKey(100)  \n",
    "\n"
   ]
  },
  {
   "cell_type": "code",
   "execution_count": 14,
   "metadata": {},
   "outputs": [
    {
     "data": {
      "text/plain": [
       "-1"
      ]
     },
     "execution_count": 14,
     "metadata": {},
     "output_type": "execute_result"
    }
   ],
   "source": [
    "# 膨胀操作\n",
    "\n",
    "image = cv2.imread('./assets/03/dige.png')\n",
    "\n",
    "kernel = np.ones((5,5),np.uint8)\n",
    "output1 = cv2.erode(image, kernel, iterations = 1)\n",
    "output2 = cv2.dilate(output1, kernel, iterations=1)\n",
    "\n",
    "output = np.hstack([image, output1, output2])\n",
    "\n",
    "cv2.imshow('output', output)\n",
    "cv2.waitKey(3000)\n",
    "cv2.destroyAllWindows()\n",
    "cv2.waitKey(100)  \n",
    "\n"
   ]
  },
  {
   "cell_type": "code",
   "execution_count": 7,
   "metadata": {},
   "outputs": [
    {
     "data": {
      "text/plain": [
       "-1"
      ]
     },
     "execution_count": 7,
     "metadata": {},
     "output_type": "execute_result"
    }
   ],
   "source": [
    "# 开运算与闭运算\n",
    "# 开运算：先腐蚀再膨胀\n",
    "image = cv2.imread('./assets/03/dige.png')\n",
    "\n",
    "kernel = np.ones((5, 5), np.uint8)\n",
    "opening = cv2.morphologyEx(image, cv2.MORPH_OPEN, kernel)\n",
    "\n",
    "cv2.imshow('opening' , opening)\n",
    "cv2.waitKey(3000)\n",
    "cv2.destroyAllWindows()\n",
    "cv2.waitKey(100)\n",
    "\n",
    "# 闭运算：先膨胀再腐蚀\n",
    "image = cv2.imread('./assets/03/pie.png')\n",
    "kernel = np.ones((5, 5), np.uint8)\n",
    "closing = cv2.morphologyEx(image, cv2.MORPH_CLOSE, kernel)\n",
    "cv2.imshow('closing' , closing)\n",
    "cv2.waitKey(3000)\n",
    "cv2.destroyAllWindows()\n",
    "cv2.waitKey(100)"
   ]
  },
  {
   "cell_type": "code",
   "execution_count": 9,
   "metadata": {},
   "outputs": [
    {
     "data": {
      "text/plain": [
       "-1"
      ]
     },
     "execution_count": 9,
     "metadata": {},
     "output_type": "execute_result"
    }
   ],
   "source": [
    "# 梯度计算\n",
    "image = cv2.imread('./assets/03/pie.png')\n",
    "kernel = np.ones((5, 5), np.uint8)\n",
    "closing = cv2.morphologyEx(image, cv2.MORPH_GRADIENT, kernel)\n",
    "cv2.imshow('closing' , closing)\n",
    "cv2.waitKey(3000)\n",
    "cv2.destroyAllWindows()\n",
    "cv2.waitKey(100)"
   ]
  },
  {
   "cell_type": "code",
   "execution_count": 11,
   "metadata": {},
   "outputs": [
    {
     "data": {
      "text/plain": [
       "-1"
      ]
     },
     "execution_count": 11,
     "metadata": {},
     "output_type": "execute_result"
    }
   ],
   "source": [
    "# 礼帽和黑帽\n",
    "# 礼帽 = 原始输入 - 开操作\n",
    "# 黑帽 = 闭操作 - 原始输入\n",
    "\n",
    "# 礼帽\n",
    "image = cv2.imread('./assets/03/dige.png')\n",
    "kernel = np.ones((5, 5), np.uint8)\n",
    "closing = cv2.morphologyEx(image, cv2.MORPH_TOPHAT, kernel)\n",
    "cv2.imshow('closing' , closing)\n",
    "cv2.waitKey(3000)\n",
    "cv2.destroyAllWindows()\n",
    "cv2.waitKey(100)\n",
    "\n",
    "# 黑帽\n",
    "image = cv2.imread('./assets/03/dige.png')\n",
    "kernel = np.ones((5, 5), np.uint8)\n",
    "closing = cv2.morphologyEx(image, cv2.MORPH_BLACKHAT, kernel)\n",
    "cv2.imshow('closing' , closing)\n",
    "cv2.waitKey(3000)\n",
    "cv2.destroyAllWindows()\n",
    "cv2.waitKey(100)"
   ]
  }
 ],
 "metadata": {
  "kernelspec": {
   "display_name": "base",
   "language": "python",
   "name": "python3"
  },
  "language_info": {
   "codemirror_mode": {
    "name": "ipython",
    "version": 3
   },
   "file_extension": ".py",
   "mimetype": "text/x-python",
   "name": "python",
   "nbconvert_exporter": "python",
   "pygments_lexer": "ipython3",
   "version": "3.12.4"
  }
 },
 "nbformat": 4,
 "nbformat_minor": 2
}
